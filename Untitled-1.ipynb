{
 "cells": [
  {
   "cell_type": "code",
   "execution_count": null,
   "metadata": {},
   "outputs": [],
   "source": [
    "import duckdb as dck \n",
    "\n",
    "df = dck.sql('select \"nom_usuel\",  \"altitude(m)\", \"date_debut_serie(YYYYMM)\"::text as \"date_debut_serie(YYYYMM)\", \"date_fin_serie(YYYYMM)\"::text as \"date_fin_serie(YYYYMM)\" , \"latitude(°)\" ,\"longitude(°)\" from read_csv(\"..\\data\\Liste_SH_TX_metro.csv\")').df()\n"
   ]
  }
 ],
 "metadata": {
  "language_info": {
   "name": "python"
  }
 },
 "nbformat": 4,
 "nbformat_minor": 2
}
